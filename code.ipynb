{
 "cells": [
  {
   "cell_type": "code",
   "execution_count": null,
   "metadata": {},
   "outputs": [],
   "source": [
    "import pandas as pd\n",
    "import matplotlib.pyplot as plt\n",
    "import seaborn as sns\n",
    "import numpy as np\n",
    "from sklearn import preprocessing\n",
    "from sklearn.preprocessing import OneHotEncoder\n",
    "from sklearn.model_selection import train_test_split"
   ]
  },
  {
   "cell_type": "code",
   "execution_count": null,
   "metadata": {},
   "outputs": [],
   "source": [
    "data = pd.read_csv(\"car_price_prediction.csv\")\n",
    "data.head()"
   ]
  },
  {
   "cell_type": "code",
   "execution_count": null,
   "metadata": {},
   "outputs": [],
   "source": [
    "data.info()"
   ]
  },
  {
   "cell_type": "code",
   "execution_count": null,
   "metadata": {},
   "outputs": [],
   "source": [
    "data.describe()"
   ]
  },
  {
   "cell_type": "code",
   "execution_count": null,
   "metadata": {},
   "outputs": [],
   "source": [
    "data = data.drop([\"ID\"], axis=1)"
   ]
  },
  {
   "cell_type": "code",
   "execution_count": null,
   "metadata": {},
   "outputs": [],
   "source": [
    "data.hist(bins=50, figsize=(10, 6))\n",
    "plt.show()"
   ]
  },
  {
   "cell_type": "code",
   "execution_count": null,
   "metadata": {},
   "outputs": [],
   "source": [
    "plt.figure(figsize=(20, 20))\n",
    "\n",
    "plt.subplot(7, 1, 1)\n",
    "data[\"Manufacturer\"].value_counts().plot(kind=\"bar\")\n",
    "plt.subplot(7, 1, 2)\n",
    "data[\"Category\"].value_counts().plot(kind=\"bar\")\n",
    "plt.subplot(7, 1, 3)\n",
    "data[\"Fuel type\"].value_counts().plot(kind=\"bar\")\n",
    "plt.subplot(7, 1, 4)\n",
    "data[\"Gear box type\"].value_counts().plot(kind=\"bar\")\n",
    "plt.subplot(7, 1, 5)\n",
    "data[\"Drive wheels\"].value_counts().plot(kind=\"bar\")\n",
    "plt.subplot(7, 1, 6)\n",
    "data[\"Wheel\"].value_counts().plot(kind=\"bar\")\n",
    "plt.subplot(7, 1, 7)\n",
    "data[\"Color\"].value_counts().plot(kind=\"bar\")\n",
    "plt.show()"
   ]
  },
  {
   "cell_type": "code",
   "execution_count": null,
   "metadata": {},
   "outputs": [],
   "source": [
    "sns.boxplot(data=data[\"Price\"])"
   ]
  },
  {
   "cell_type": "code",
   "execution_count": null,
   "metadata": {},
   "outputs": [],
   "source": [
    "p25 = data[\"Price\"].quantile(0.25)\n",
    "p75 = data[\"Price\"].quantile(0.75)\n",
    "iqr = p75 - p25\n",
    "ul = p75 + (1.5 * iqr)\n",
    "ll = p25 - (1.5 * iqr)"
   ]
  },
  {
   "cell_type": "code",
   "execution_count": null,
   "metadata": {},
   "outputs": [],
   "source": [
    "data1 = data[(data[\"Price\"] < ul) & (data[\"Price\"] > ll)]\n",
    "data1"
   ]
  },
  {
   "cell_type": "code",
   "execution_count": null,
   "metadata": {},
   "outputs": [],
   "source": [
    "data1[\"Levy\"] = data1[\"Levy\"].replace(\"-\", 0)"
   ]
  },
  {
   "cell_type": "code",
   "execution_count": null,
   "metadata": {},
   "outputs": [],
   "source": [
    "data1[\"Levy\"] = data1[\"Levy\"].astype(int)"
   ]
  },
  {
   "cell_type": "code",
   "execution_count": null,
   "metadata": {},
   "outputs": [],
   "source": [
    "data1[\"Price\"] = data1[\"Price\"] + data1[\"Levy\"]"
   ]
  },
  {
   "cell_type": "code",
   "execution_count": null,
   "metadata": {},
   "outputs": [],
   "source": [
    "data1.reset_index(drop=True)"
   ]
  },
  {
   "cell_type": "code",
   "execution_count": null,
   "metadata": {},
   "outputs": [],
   "source": [
    "data1[\"Vehicle name\"] = data1[\"Manufacturer\"] + \" \" + data1[\"Model\"]"
   ]
  },
  {
   "cell_type": "code",
   "execution_count": null,
   "metadata": {},
   "outputs": [],
   "source": [
    "data1 = data1.drop([\"Levy\", \"Manufacturer\", \"Model\", \"Doors\"], axis=1)"
   ]
  },
  {
   "cell_type": "code",
   "execution_count": null,
   "metadata": {},
   "outputs": [],
   "source": [
    "data1[\"Category\"].value_counts()[-4:]"
   ]
  },
  {
   "cell_type": "code",
   "execution_count": null,
   "metadata": {},
   "outputs": [],
   "source": [
    "data1 = data1.groupby(\"Category\").filter(lambda x: len(x) > 100)"
   ]
  },
  {
   "cell_type": "code",
   "execution_count": null,
   "metadata": {},
   "outputs": [],
   "source": [
    "data1[\"Mileage\"] = data1[\"Mileage\"].astype(str)"
   ]
  },
  {
   "cell_type": "code",
   "execution_count": null,
   "metadata": {},
   "outputs": [],
   "source": [
    "def remove_km(x):\n",
    "    return x.replace(\" km\", \"\")\n",
    "\n",
    "\n",
    "def remove_turbo(x):\n",
    "    return x.replace(\" Turbo\", \"\")"
   ]
  },
  {
   "cell_type": "code",
   "execution_count": null,
   "metadata": {},
   "outputs": [],
   "source": [
    "data1[\"Mileage\"] = data1[\"Mileage\"].apply(lambda x: remove_km(x))"
   ]
  },
  {
   "cell_type": "code",
   "execution_count": null,
   "metadata": {},
   "outputs": [],
   "source": [
    "data1[\"Mileage\"] = data1[\"Mileage\"].astype(int)"
   ]
  },
  {
   "cell_type": "code",
   "execution_count": null,
   "metadata": {},
   "outputs": [],
   "source": [
    "data1[\"Engine volume\"] = data1[\"Engine volume\"].astype(str)\n",
    "data1[\"Engine volume\"] = data1[\"Engine volume\"].apply(lambda x: remove_turbo(x))\n",
    "data1[\"Engine volume\"] = data1[\"Engine volume\"].astype(float)"
   ]
  },
  {
   "cell_type": "code",
   "execution_count": null,
   "metadata": {},
   "outputs": [],
   "source": [
    "data1[\"Wheel\"].value_counts()"
   ]
  },
  {
   "cell_type": "code",
   "execution_count": null,
   "metadata": {},
   "outputs": [],
   "source": [
    "def encode_wheel(x):\n",
    "    if x == \"Left wheel\":\n",
    "        return 0\n",
    "    else:\n",
    "        return 1\n",
    "\n",
    "\n",
    "data1[\"Wheel\"] = data1[\"Wheel\"].astype(str)\n",
    "data1[\"Wheel\"] = data1[\"Wheel\"].apply(lambda x: encode_wheel(x))\n",
    "data1[\"Wheel\"] = data1[\"Wheel\"].astype(int)"
   ]
  },
  {
   "cell_type": "code",
   "execution_count": null,
   "metadata": {},
   "outputs": [],
   "source": [
    "data1.info()"
   ]
  },
  {
   "cell_type": "code",
   "execution_count": null,
   "metadata": {},
   "outputs": [],
   "source": [
    "label_encoder = preprocessing.LabelEncoder()\n",
    "data1[\"Vehicle name\"] = label_encoder.fit_transform(data1[\"Vehicle name\"])"
   ]
  },
  {
   "cell_type": "code",
   "execution_count": null,
   "metadata": {},
   "outputs": [],
   "source": [
    "data1[\"Gear box type\"] = label_encoder.fit_transform(data1[\"Gear box type\"])\n",
    "data1[\"Category\"] = label_encoder.fit_transform(data1[\"Category\"])\n",
    "data1[\"Leather interior\"] = label_encoder.fit_transform(data1[\"Leather interior\"])\n",
    "data1[\"Fuel type\"] = label_encoder.fit_transform(data1[\"Fuel type\"])\n",
    "data1[\"Drive wheels\"] = label_encoder.fit_transform(data1[\"Drive wheels\"])\n",
    "data1[\"Color\"] = label_encoder.fit_transform(data1[\"Color\"])"
   ]
  },
  {
   "cell_type": "code",
   "execution_count": null,
   "metadata": {},
   "outputs": [],
   "source": [
    "enc = OneHotEncoder(handle_unknown=\"ignore\")\n",
    "\n",
    "enc_data = pd.DataFrame(\n",
    "    enc.fit_transform(\n",
    "        data1[\n",
    "            [\n",
    "                \"Prod. year\",\n",
    "                \"Category\",\n",
    "                \"Leather interior\",\n",
    "                \"Fuel type\",\n",
    "                \"Gear box type\",\n",
    "                \"Drive wheels\",\n",
    "                \"Color\",\n",
    "                \"Vehicle name\",\n",
    "            ]\n",
    "        ]\n",
    "    )\n",
    ")\n",
    "\n",
    "data1 = data1.drop(\n",
    "    [\n",
    "        \"Prod. year\",\n",
    "        \"Category\",\n",
    "        \"Leather interior\",\n",
    "        \"Fuel type\",\n",
    "        \"Gear box type\",\n",
    "        \"Drive wheels\",\n",
    "        \"Color\",\n",
    "        \"Vehicle name\",\n",
    "    ],\n",
    "    axis=1,\n",
    ")\n",
    "data1 = data1.join(enc_data)"
   ]
  },
  {
   "cell_type": "code",
   "execution_count": null,
   "metadata": {},
   "outputs": [],
   "source": [
    "data1"
   ]
  },
  {
   "cell_type": "code",
   "execution_count": null,
   "metadata": {},
   "outputs": [],
   "source": [
    "plt.figure(figsize=(20, 20))\n",
    "\n",
    "plt.subplot(7, 2, 1)\n",
    "plt.scatter(data1[\"Prod. year\"], data1[\"Price\"])\n",
    "plt.subplot(7, 2, 2)\n",
    "plt.scatter(data1[\"Category\"], data1[\"Price\"])\n",
    "plt.subplot(7, 2, 3)\n",
    "plt.scatter(data1[\"Leather interior\"], data1[\"Price\"])\n",
    "plt.subplot(7, 2, 4)\n",
    "plt.scatter(data1[\"Fuel type\"], data1[\"Price\"])\n",
    "plt.subplot(7, 2, 5)\n",
    "plt.scatter(data1[\"Engine volume\"], data1[\"Price\"])\n",
    "plt.subplot(7, 2, 6)\n",
    "plt.scatter(data1[\"Mileage\"], data1[\"Price\"])\n",
    "plt.subplot(7, 2, 7)\n",
    "plt.scatter(data1[\"Cylinders\"], data1[\"Price\"])\n",
    "plt.subplot(7, 2, 8)\n",
    "plt.scatter(data1[\"Gear box type\"], data1[\"Price\"])\n",
    "plt.subplot(7, 2, 9)\n",
    "plt.scatter(data1[\"Drive wheels\"], data1[\"Price\"])\n",
    "plt.subplot(7, 2, 10)\n",
    "plt.scatter(data1[\"Wheel\"], data1[\"Price\"])\n",
    "plt.subplot(7, 2, 11)\n",
    "plt.scatter(data1[\"Color\"], data1[\"Price\"])\n",
    "plt.subplot(7, 2, 12)\n",
    "plt.scatter(data1[\"Airbags\"], data1[\"Price\"])\n",
    "plt.subplot(7, 2, 13)\n",
    "plt.scatter(data1[\"Vehicle name\"], data1[\"Price\"])"
   ]
  },
  {
   "attachments": {},
   "cell_type": "markdown",
   "metadata": {},
   "source": [
    "plt.figure(figsize=(16,10))\n",
    "sns.heatmap(data1.corr(),cmap=\"YlGnBu\", annot=True,center=0)\n",
    "plt.show()\n"
   ]
  },
  {
   "cell_type": "code",
   "execution_count": null,
   "metadata": {},
   "outputs": [],
   "source": [
    "data2 = data1.drop(\"Price\", axis=1)\n",
    "data3 = data1[\"Price\"]"
   ]
  },
  {
   "cell_type": "code",
   "execution_count": null,
   "metadata": {},
   "outputs": [],
   "source": [
    "X_train, X_test, y_train, y_test = train_test_split(\n",
    "    data2, data3, random_state=52, test_size=0.2\n",
    ")"
   ]
  },
  {
   "cell_type": "code",
   "execution_count": null,
   "metadata": {},
   "outputs": [],
   "source": [
    "from sklearn.linear_model import LinearRegression\n",
    "from sklearn.metrics import mean_squared_error\n",
    "from sklearn.metrics import r2_score\n",
    "\n",
    "model = LinearRegression()\n",
    "model.fit(X_train, y_train)\n",
    "pred = model.predict(X_train)\n",
    "\n",
    "score = r2_score(y_train, pred)\n",
    "print(model.score(X_test, y_test))"
   ]
  },
  {
   "cell_type": "code",
   "execution_count": null,
   "metadata": {},
   "outputs": [],
   "source": [
    "from sklearn.ensemble import RandomForestRegressor\n",
    "\n",
    "regressor = RandomForestRegressor(n_estimators=50, random_state=0)\n",
    "\n",
    "regressor.fit(X_train, y_train)\n",
    "\n",
    "print(regressor.score(X_test, y_test))"
   ]
  }
 ],
 "metadata": {
  "kernelspec": {
   "display_name": "Python 3",
   "language": "python",
   "name": "python3"
  },
  "language_info": {
   "codemirror_mode": {
    "name": "ipython",
    "version": 3
   },
   "file_extension": ".py",
   "mimetype": "text/x-python",
   "name": "python",
   "nbconvert_exporter": "python",
   "pygments_lexer": "ipython3",
   "version": "3.10.2"
  },
  "orig_nbformat": 4
 },
 "nbformat": 4,
 "nbformat_minor": 2
}
